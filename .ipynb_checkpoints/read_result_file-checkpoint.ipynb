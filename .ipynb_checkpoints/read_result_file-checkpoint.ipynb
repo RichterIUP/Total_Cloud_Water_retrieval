{
 "cells": [
  {
   "cell_type": "markdown",
   "metadata": {},
   "source": [
    "## Load libraries\n",
    "\n",
    "Results file is of netCDF, so we need to load either netCDF4 or scipy.io. I decide to use netCDF4, because this should be on every system running TCWret"
   ]
  },
  {
   "cell_type": "code",
   "execution_count": 93,
   "metadata": {},
   "outputs": [],
   "source": [
    "import os\n",
    "import netCDF4 as nc\n",
    "import numpy as np\n",
    "import matplotlib.pyplot as plt"
   ]
  },
  {
   "cell_type": "markdown",
   "metadata": {},
   "source": [
    "For this example, just load the first file of your results folder"
   ]
  },
  {
   "cell_type": "code",
   "execution_count": 102,
   "metadata": {},
   "outputs": [
    {
     "name": "stdout",
     "output_type": "stream",
     "text": [
      "results_20121130180000.nc\n"
     ]
    }
   ],
   "source": [
    "path = \"../runs/RESULTS\"\n",
    "fname = os.listdir(path)[4]\n",
    "print(fname)"
   ]
  },
  {
   "cell_type": "markdown",
   "metadata": {},
   "source": [
    "Open the file, all keys and read cloud parameters and spectrum"
   ]
  },
  {
   "cell_type": "code",
   "execution_count": 103,
   "metadata": {},
   "outputs": [
    {
     "name": "stdout",
     "output_type": "stream",
     "text": [
      "<class 'netCDF4._netCDF4.Dataset'>\n",
      "root group (NETCDF4 data model, file format HDF5):\n",
      "    dimensions(sizes): const(1), mcp(4), mcp_err(2), wp(3), level(69), wavenumber(19), cgrid(2)\n",
      "    variables(dimensions): float64 \u001b[4mlat\u001b[0m(const), float64 \u001b[4mlon\u001b[0m(const), float64 \u001b[4mclevel\u001b[0m(cgrid), float64 \u001b[4msza\u001b[0m(const), float64 \u001b[4mniter\u001b[0m(const), float64 \u001b[4mP\u001b[0m(level), float64 \u001b[4mT\u001b[0m(level), float64 \u001b[4mhumidity\u001b[0m(level), float64 \u001b[4mz\u001b[0m(level), float64 \u001b[4mwavenumber\u001b[0m(wavenumber), float64 \u001b[4mcloud to surface transmissivity\u001b[0m(wavenumber), float64 \u001b[4mcloud reflectivity\u001b[0m(wavenumber), float64 \u001b[4mftir radiance\u001b[0m(wavenumber), float64 \u001b[4mclearsky radiance\u001b[0m(wavenumber), float64 \u001b[4mlbldis radiance\u001b[0m(wavenumber), float64 \u001b[4mcemissivity lbldis\u001b[0m(wavenumber), float64 \u001b[4mcemissivity ftir\u001b[0m(wavenumber), float64 \u001b[4mresiduum\u001b[0m(wavenumber), float64 \u001b[4mRoot-Mean-Square\u001b[0m(const), float64 \u001b[4mstd radiance\u001b[0m(const), float64 \u001b[4mS_y_inv\u001b[0m(wavenumber,wavenumber), float64 \u001b[4maveraging kernel matrix\u001b[0m(mcp,mcp), float64 \u001b[4mcovariance matrix\u001b[0m(mcp,mcp), float64 \u001b[4mtransfer matrix\u001b[0m(mcp,wavenumber), float64 \u001b[4mred_chi_2\u001b[0m(const), float64 \u001b[4mx_ret\u001b[0m(mcp), float64 \u001b[4mx_ret_err\u001b[0m(mcp), float64 \u001b[4mx_a\u001b[0m(mcp), float64 \u001b[4mx_a_err\u001b[0m(mcp)\n",
      "    groups: \n",
      "\n"
     ]
    }
   ],
   "source": [
    "with nc.Dataset(os.path.join(path, fname), 'r') as file_:\n",
    "    print(file_)\n",
    "    xret = file_.variables['x_ret'][:]\n",
    "    xret_err = file_.variables['x_ret_err'][:]\n",
    "    x_a = file_.variables['x_a'][:]\n",
    "    wavenumber = file_.variables['wavenumber'][:]\n",
    "    ftir = file_.variables['ftir radiance'][:]\n",
    "    lbldis = file_.variables['lbldis radiance'][:]\n",
    "    avk = file_.variables['averaging kernel matrix'][:]\n",
    "    redchi2 = file_.variables['red_chi_2'][:]\n",
    "    std = file_.variables['std radiance'][:]"
   ]
  },
  {
   "cell_type": "markdown",
   "metadata": {},
   "source": [
    "Write parameters and plot spectrum"
   ]
  },
  {
   "cell_type": "raw",
   "metadata": {},
   "source": [
    "print(xret, xret_err)\n",
    "plt.plot(wavenumber, ftir, label=\"measurement\")\n",
    "plt.plot(wavenumber, lbldis, label=\"fit\")\n",
    "plt.legend()"
   ]
  },
  {
   "cell_type": "code",
   "execution_count": 104,
   "metadata": {},
   "outputs": [
    {
     "data": {
      "text/plain": [
       "(2.8903717578961645, 2.5649493574615367)"
      ]
     },
     "execution_count": 104,
     "metadata": {},
     "output_type": "execute_result"
    }
   ],
   "source": [
    "#[[0.]\n",
    "# [0.]\n",
    "# [2.56494936]\n",
    "# [2.89037176]]\n",
    "np.log(18), np.log(13)"
   ]
  },
  {
   "cell_type": "code",
   "execution_count": 107,
   "metadata": {},
   "outputs": [
    {
     "name": "stdout",
     "output_type": "stream",
     "text": [
      "[0.25777823] 0.2868754534947375 [0.31342906]\n",
      "[0.19528161] 0.12629497529045636 [0.10394516]\n",
      "[8.530089303130602] 10.980198507932466 [13.]\n",
      "[19.996860005857453] 32.20181339793168 [18.]\n",
      "\n",
      "[[ 0.95864512 -0.09556492 -0.07513715 -0.04564283]\n",
      " [ 0.0449838   1.09781561  0.11170308  0.03762283]\n",
      " [-0.13926953 -0.2515366   0.52597712 -0.03493108]\n",
      " [-0.05504672 -0.05496141  0.01006197  0.13579236]] 2.718230211290671\n"
     ]
    }
   ],
   "source": [
    "x_t = np.array([[0.31342906], [0.10394516], [np.log(13)], [np.log(18)]])\n",
    "x_a = np.array([[0.25], [0.25], [np.log(5)], [np.log(20)]])\n",
    "x_r = np.matmul(avk, (x_t-x_a)) + x_a\n",
    "#print(x_r)\n",
    "#print(xret)\n",
    "print(x_r[0], xret[0], x_t[0])\n",
    "print(x_r[1], xret[1], x_t[1])\n",
    "print(np.exp(x_r[2]), np.exp(xret[2]), np.exp(x_t[2]))\n",
    "print(np.exp(x_r[3]), np.exp(xret[3]), np.exp(x_t[3]))\n",
    "print()\n",
    "print(avk, np.trace(avk))\n"
   ]
  },
  {
   "cell_type": "code",
   "execution_count": null,
   "metadata": {},
   "outputs": [],
   "source": []
  }
 ],
 "metadata": {
  "kernelspec": {
   "display_name": "v2020.3 LAMOS (py3.7.8)",
   "language": "python",
   "name": "lamos_2020.3"
  },
  "language_info": {
   "codemirror_mode": {
    "name": "ipython",
    "version": 3
   },
   "file_extension": ".py",
   "mimetype": "text/x-python",
   "name": "python",
   "nbconvert_exporter": "python",
   "pygments_lexer": "ipython3",
   "version": "3.7.8"
  }
 },
 "nbformat": 4,
 "nbformat_minor": 4
}
