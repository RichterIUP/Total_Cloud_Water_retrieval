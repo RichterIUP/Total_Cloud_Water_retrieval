{
 "cells": [
  {
   "cell_type": "markdown",
   "metadata": {},
   "source": [
    "## Load libraries\n",
    "\n",
    "Results file is of netCDF, so we need to load either netCDF4 or scipy.io. I decide to use netCDF4, because this should be on every system running TCWret"
   ]
  },
  {
   "cell_type": "code",
   "execution_count": 1,
   "metadata": {},
   "outputs": [],
   "source": [
    "import os\n",
    "import netCDF4 as nc\n",
    "import numpy as np\n",
    "import matplotlib.pyplot as plt"
   ]
  },
  {
   "cell_type": "markdown",
   "metadata": {},
   "source": [
    "For this example, just load the first file of your results folder"
   ]
  },
  {
   "cell_type": "code",
   "execution_count": 2,
   "metadata": {},
   "outputs": [],
   "source": [
    "path = \"/home/phi.richter/retrieval_recode/Total_Cloud_Water_retrieval/runs/RESULTS\"\n",
    "fname = os.listdir(path)[0]"
   ]
  },
  {
   "cell_type": "markdown",
   "metadata": {},
   "source": [
    "Open the file, all keys and read cloud parameters and spectrum"
   ]
  },
  {
   "cell_type": "code",
   "execution_count": 3,
   "metadata": {},
   "outputs": [
    {
     "name": "stdout",
     "output_type": "stream",
     "text": [
      "<class 'netCDF4._netCDF4.Dataset'>\n",
      "root group (NETCDF4 data model, file format HDF5):\n",
      "    dimensions(sizes): const(1), mcp(4), mcp_err(2), wp(3), level(69), wavenumber(19), cgrid(1)\n",
      "    variables(dimensions): float64 \u001b[4mlat\u001b[0m(const), float64 \u001b[4mlon\u001b[0m(const), float64 \u001b[4mclevel\u001b[0m(cgrid), float64 \u001b[4msza\u001b[0m(const), float64 \u001b[4mniter\u001b[0m(const), float64 \u001b[4mP\u001b[0m(level), float64 \u001b[4mT\u001b[0m(level), float64 \u001b[4mhumidity\u001b[0m(level), float64 \u001b[4mz\u001b[0m(level), float64 \u001b[4mwavenumber\u001b[0m(wavenumber), float64 \u001b[4mcloud to surface transmissivity\u001b[0m(wavenumber), float64 \u001b[4mcloud reflectivity\u001b[0m(wavenumber), float64 \u001b[4mftir radiance\u001b[0m(wavenumber), float64 \u001b[4mclearsky radiance\u001b[0m(wavenumber), float64 \u001b[4mlbldis radiance\u001b[0m(wavenumber), float64 \u001b[4mcemissivity lbldis\u001b[0m(wavenumber), float64 \u001b[4mcemissivity ftir\u001b[0m(wavenumber), float64 \u001b[4mresiduum\u001b[0m(wavenumber), float64 \u001b[4mRoot-Mean-Square\u001b[0m(const), float64 \u001b[4mstd radiance\u001b[0m(const), float64 \u001b[4mS_y_inv\u001b[0m(wavenumber,wavenumber), float64 \u001b[4maveraging kernel matrix\u001b[0m(mcp,mcp), float64 \u001b[4mcovariance matrix\u001b[0m(mcp,mcp), float64 \u001b[4mtransfer matrix\u001b[0m(mcp,wavenumber), float64 \u001b[4mred_chi_2\u001b[0m(const), float64 \u001b[4mx_ret\u001b[0m(mcp), float64 \u001b[4mx_ret_err\u001b[0m(mcp), float64 \u001b[4mx_a\u001b[0m(mcp), float64 \u001b[4mx_a_err\u001b[0m(mcp)\n",
      "    groups: \n",
      "\n"
     ]
    }
   ],
   "source": [
    "with nc.Dataset(os.path.join(path, fname), 'r') as file_:\n",
    "    print(file_)\n",
    "    xret = file_.variables['x_ret'][:]\n",
    "    xret_err = file_.variables['x_ret_err'][:]\n",
    "    wavenumber = file_.variables['wavenumber'][:]\n",
    "    ftir = file_.variables['ftir radiance'][:]\n",
    "    lbldis = file_.variables['lbldis radiance'][:]"
   ]
  },
  {
   "cell_type": "markdown",
   "metadata": {},
   "source": [
    "Write parameters and plot spectrum"
   ]
  },
  {
   "cell_type": "code",
   "execution_count": 4,
   "metadata": {},
   "outputs": [
    {
     "name": "stdout",
     "output_type": "stream",
     "text": [
      "[ 1.64614393  0.05533525 12.0006506  34.18804648] [0.30849761 0.32585826 1.22020341 8.5104704 ]\n"
     ]
    },
    {
     "data": {
      "text/plain": [
       "<matplotlib.legend.Legend at 0x2ac792337390>"
      ]
     },
     "execution_count": 4,
     "metadata": {},
     "output_type": "execute_result"
    },
    {
     "data": {
      "image/png": "[encoded data removed]",
      "text/plain": [
       "<Figure size 432x288 with 1 Axes>"
      ]
     },
     "metadata": {
      "needs_background": "light"
     },
     "output_type": "display_data"
    }
   ],
   "source": [
    "print(xret, xret_err)\n",
    "plt.plot(wavenumber, ftir, label=\"measurement\")\n",
    "plt.plot(wavenumber, lbldis, label=\"fit\")\n",
    "plt.legend()"
   ]
  }
 ],
 "metadata": {
  "kernelspec": {
   "display_name": "v2020.3 LAMOS (py3.7.8)",
   "language": "python",
   "name": "lamos_2020.3"
  },
  "language_info": {
   "codemirror_mode": {
    "name": "ipython",
    "version": 3
   },
   "file_extension": ".py",
   "mimetype": "text/x-python",
   "name": "python",
   "nbconvert_exporter": "python",
   "pygments_lexer": "ipython3",
   "version": "3.7.8"
  }
 },
 "nbformat": 4,
 "nbformat_minor": 4
}
