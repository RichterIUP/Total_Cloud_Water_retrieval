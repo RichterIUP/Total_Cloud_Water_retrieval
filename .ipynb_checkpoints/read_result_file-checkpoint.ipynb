{
 "cells": [
  {
   "cell_type": "markdown",
   "metadata": {},
   "source": [
    "## Load libraries\n",
    "\n",
    "Results file is of netCDF, so we need to load either netCDF4 or scipy.io. I decide to use netCDF4, because this should be on every system running TCWret"
   ]
  },
  {
   "cell_type": "code",
   "execution_count": 1,
   "metadata": {},
   "outputs": [],
   "source": [
    "import os\n",
    "import netCDF4 as nc\n",
    "import numpy as np\n",
    "import matplotlib.pyplot as plt"
   ]
  },
  {
   "cell_type": "markdown",
   "metadata": {},
   "source": [
    "For this example, just load the first file of your results folder"
   ]
  },
  {
   "cell_type": "code",
   "execution_count": 5,
   "metadata": {},
   "outputs": [],
   "source": [
    "path = \"/home/philipp/retrieval_recode/Total_Cloud_Water_retrieval/runs/RESULTS\"\n",
    "fname = os.listdir(path)[0]"
   ]
  },
  {
   "cell_type": "markdown",
   "metadata": {},
   "source": [
    "Open the file, all keys and read cloud parameters and spectrum"
   ]
  },
  {
   "cell_type": "code",
   "execution_count": 6,
   "metadata": {},
   "outputs": [
    {
     "name": "stdout",
     "output_type": "stream",
     "text": [
      "<class 'netCDF4._netCDF4.Dataset'>\n",
      "root group (NETCDF4 data model, file format HDF5):\n",
      "    dimensions(sizes): const(1), mcp(4), mcp_err(2), wp(3), level(40), wavenumber(19), cgrid(1)\n",
      "    variables(dimensions): float64 lat(const), float64 lon(const), float64 clevel(cgrid), float64 sza(const), float64 niter(const), float64 P(level), float64 T(level), float64 humidity(level), float64 z(level), float64 wavenumber(wavenumber), float64 cloud to surface transmissivity(wavenumber), float64 cloud reflectivity(wavenumber), float64 ftir radiance(wavenumber), float64 clearsky radiance(wavenumber), float64 lbldis radiance(wavenumber), float64 cemissivity lbldis(wavenumber), float64 cemissivity ftir(wavenumber), float64 residuum(wavenumber), float64 Root-Mean-Square(const), float64 std radiance(const), float64 S_y_inv(wavenumber,wavenumber), float64 averaging kernel matrix(mcp,mcp), float64 covariance matrix(mcp,mcp), float64 transfer matrix(mcp,wavenumber), float64 red_chi_2(const), float64 x_ret(mcp), float64 x_ret_err(mcp), float64 x_a(mcp), float64 x_a_err(mcp)\n",
      "    groups: \n"
     ]
    }
   ],
   "source": [
    "with nc.Dataset(os.path.join(path, fname), 'r') as file_:\n",
    "    print(file_)\n",
    "    xret = file_.variables['x_ret'][:]\n",
    "    xret_err = file_.variables['x_ret_err'][:]\n",
    "    wavenumber = file_.variables['wavenumber'][:]\n",
    "    ftir = file_.variables['ftir radiance'][:]\n",
    "    lbldis = file_.variables['lbldis radiance'][:]"
   ]
  },
  {
   "cell_type": "markdown",
   "metadata": {},
   "source": [
    "Write parameters and plot spectrum"
   ]
  },
  {
   "cell_type": "code",
   "execution_count": 7,
   "metadata": {},
   "outputs": [
    {
     "name": "stdout",
     "output_type": "stream",
     "text": [
      "[1.53944424e+00 3.07185537e-03 1.20568995e+01 2.12170809e+01] [0.19631434 0.19234612 0.55557068 3.13977441]\n"
     ]
    },
    {
     "data": {
      "text/plain": [
       "<matplotlib.legend.Legend at 0x7f5bcda40910>"
      ]
     },
     "execution_count": 7,
     "metadata": {},
     "output_type": "execute_result"
    },
    {
     "data": {
      "image/png": "[encoded data removed]",
      "text/plain": [
       "<Figure size 432x288 with 1 Axes>"
      ]
     },
     "metadata": {
      "needs_background": "light"
     },
     "output_type": "display_data"
    }
   ],
   "source": [
    "print(xret, xret_err)\n",
    "plt.plot(wavenumber, ftir, label=\"measurement\")\n",
    "plt.plot(wavenumber, lbldis, label=\"fit\")\n",
    "plt.legend()"
   ]
  },
  {
   "cell_type": "code",
   "execution_count": null,
   "metadata": {},
   "outputs": [],
   "source": []
  }
 ],
 "metadata": {
  "kernelspec": {
   "display_name": "Python 3",
   "language": "python",
   "name": "python3"
  },
  "language_info": {
   "codemirror_mode": {
    "name": "ipython",
    "version": 3
   },
   "file_extension": ".py",
   "mimetype": "text/x-python",
   "name": "python",
   "nbconvert_exporter": "python",
   "pygments_lexer": "ipython3",
   "version": "3.7.6"
  }
 },
 "nbformat": 4,
 "nbformat_minor": 4
}
