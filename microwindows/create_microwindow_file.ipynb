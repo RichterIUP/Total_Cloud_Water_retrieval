{
 "cells": [
  {
   "cell_type": "code",
   "execution_count": 1,
   "metadata": {},
   "outputs": [],
   "source": [
    "import numpy as np"
   ]
  },
  {
   "cell_type": "raw",
   "metadata": {},
   "source": [
    "529.9 531.5\n",
    "571.0 574.0\n",
    "785.9 790.7\n",
    "809.5 813.5\n",
    "817.0 824.4\n",
    "828.3 834.6\n",
    "835.8 838.7\n",
    "860.1 864.0\n",
    "872.2 877.5\n",
    "891.9 895.0\n",
    "898.2 904.8\n",
    "929.6 939.7\n",
    "958.0 964.3\n",
    "985.0 991.5\n",
    "1076.7 1084.8\n",
    "1092.2 1098.1\n",
    "1102.5 1105.0\n",
    "1113.3 1116.6\n",
    "1124.4 1132.6\n",
    "1142.2 1148.0\n",
    "1155.2 1163.4"
   ]
  },
  {
   "cell_type": "code",
   "execution_count": 15,
   "metadata": {},
   "outputs": [],
   "source": [
    "start = [529.9, 571.0, 785.9, 809.5, 817.0, 828.3, 835.8, 860.1, 872.2, 891.9, 898.2, 929.6, 958.0, 985.0, 1076.7, 1092.2, 1102.5, 1113.3, 1124.4, 1142.2, 1155.2]\n",
    "end   = [531.5, 574.0, 790.7, 813.5, 824.4, 834.6, 838.7, 864.0, 877.5, 895.0, 904.8, 939.7, 964.3, 991.5, 1084.8, 1098.1, 1105.0, 1116.6, 1132.6, 1148.0, 1163.4]\n",
    "delta = 0.3\n",
    "fname = \"microwindows_fir_tir_long\""
   ]
  },
  {
   "cell_type": "code",
   "execution_count": 17,
   "metadata": {},
   "outputs": [],
   "source": [
    "#delta_1 = np.arange(start, end, delta)\n",
    "#delta_2 = np.arange(start+delta, end+delta, delta)"
   ]
  },
  {
   "cell_type": "code",
   "execution_count": 20,
   "metadata": {},
   "outputs": [],
   "source": [
    "for jj in range(len(start)):\n",
    "    delta_1 = np.arange(start[jj], end[jj], delta)\n",
    "    delta_2 = np.arange(start[jj]+delta, end[jj]+delta, delta)\n",
    "    with open(fname, \"a\") as f:\n",
    "        #f.write(\"{}\\n\".format(delta_1.size)\n",
    "        for ii in range(len(delta_1)):\n",
    "            if delta_2[ii] < end[jj]:\n",
    "                f.write(\"{:.1f} {:.1f}\\n\".format(delta_1[ii], delta_2[ii]))"
   ]
  }
 ],
 "metadata": {
  "kernelspec": {
   "display_name": "v2020.1 LAMOS (py3.7)",
   "language": "python",
   "name": "lamos_2020.1"
  },
  "language_info": {
   "codemirror_mode": {
    "name": "ipython",
    "version": 3
   },
   "file_extension": ".py",
   "mimetype": "text/x-python",
   "name": "python",
   "nbconvert_exporter": "python",
   "pygments_lexer": "ipython3",
   "version": "3.7.3"
  }
 },
 "nbformat": 4,
 "nbformat_minor": 4
}
