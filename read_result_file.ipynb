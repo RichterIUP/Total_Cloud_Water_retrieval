{
 "cells": [
  {
   "cell_type": "markdown",
   "metadata": {},
   "source": [
    "## Load libraries\n",
    "\n",
    "Results file is of netCDF, so we need to load either netCDF4 or scipy.io. I decide to use netCDF4, because this should be on every system running TCWret"
   ]
  },
  {
   "cell_type": "code",
   "execution_count": null,
   "metadata": {},
   "outputs": [],
   "source": [
    "import os\n",
    "import netCDF4 as nc\n",
    "import numpy as np\n",
    "import matplotlib.pyplot as plt"
   ]
  },
  {
   "cell_type": "markdown",
   "metadata": {},
   "source": [
    "For this example, just load the first file of your results folder"
   ]
  },
  {
   "cell_type": "code",
   "execution_count": null,
   "metadata": {},
   "outputs": [],
   "source": [
    "path = \"/home/phi.richter/retrieval_recode/Total_Cloud_Water_retrieval/runs/RESULTS\"\n",
    "fname = os.listdir(path)[0]"
   ]
  },
  {
   "cell_type": "markdown",
   "metadata": {},
   "source": [
    "Open the file, all keys and read cloud parameters and spectrum"
   ]
  },
  {
   "cell_type": "code",
   "execution_count": null,
   "metadata": {},
   "outputs": [],
   "source": [
    "with nc.Dataset(os.path.join(path, fname), 'r') as file_:\n",
    "    print(file_)\n",
    "    xret = file_.variables['x_ret'][:]\n",
    "    xret_err = file_.variables['x_ret_err'][:]\n",
    "    wavenumber = file_.variables['wavenumber'][:]\n",
    "    ftir = file_.variables['ftir radiance'][:]\n",
    "    lbldis = file_.variables['lbldis radiance'][:]"
   ]
  },
  {
   "cell_type": "markdown",
   "metadata": {},
   "source": [
    "Write parameters and plot spectrum"
   ]
  },
  {
   "cell_type": "code",
   "execution_count": null,
   "metadata": {},
   "outputs": [],
   "source": [
    "print(xret, xret_err)\n",
    "plt.plot(wavenumber, ftir, label=\"measurement\")\n",
    "plt.plot(wavenumber, lbldis, label=\"fit\")\n",
    "plt.legend()"
   ]
  }
 ],
 "metadata": {
  "kernelspec": {
   "display_name": "v2020.3 LAMOS (py3.7.8)",
   "language": "python",
   "name": "lamos_2020.3"
  },
  "language_info": {
   "codemirror_mode": {
    "name": "ipython",
    "version": 3
   },
   "file_extension": ".py",
   "mimetype": "text/x-python",
   "name": "python",
   "nbconvert_exporter": "python",
   "pygments_lexer": "ipython3",
   "version": "3.7.8"
  }
 },
 "nbformat": 4,
 "nbformat_minor": 4
}
